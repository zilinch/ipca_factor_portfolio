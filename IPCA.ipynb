{
 "cells": [
  {
   "cell_type": "code",
   "execution_count": 6,
   "metadata": {},
   "outputs": [],
   "source": [
    "import pandas as pd\n",
    "import numpy as np\n",
    "from scipy.linalg import inv\n",
    "from PortOpt_factor.optimizer import pyport\n",
    "from ipca_utils import IPCA_factor"
   ]
  },
  {
   "cell_type": "code",
   "execution_count": 2,
   "metadata": {},
   "outputs": [],
   "source": [
    "sample_df = pd.read_csv(\"data/sample_factor_data.csv\")"
   ]
  },
  {
   "cell_type": "code",
   "execution_count": 9,
   "metadata": {},
   "outputs": [
    {
     "name": "stderr",
     "output_type": "stream",
     "text": [
      "[======                                                                  ]   8%\r"
     ]
    },
    {
     "name": "stdout",
     "output_type": "stream",
     "text": [
      "The panel dimensions are:\n",
      "n_samples: 6736 , L: 15 , T: 120\n"
     ]
    },
    {
     "name": "stderr",
     "output_type": "stream",
     "text": [
      "[========================================================================] 100%\n"
     ]
    },
    {
     "name": "stdout",
     "output_type": "stream",
     "text": [
      "[0.13313767]\n"
     ]
    },
    {
     "name": "stderr",
     "output_type": "stream",
     "text": [
      "[======                                                                  ]   8%\r"
     ]
    },
    {
     "name": "stdout",
     "output_type": "stream",
     "text": [
      "The panel dimensions are:\n",
      "n_samples: 6733 , L: 15 , T: 120\n"
     ]
    },
    {
     "name": "stderr",
     "output_type": "stream",
     "text": [
      "[========================================================================] 100%\n"
     ]
    },
    {
     "name": "stdout",
     "output_type": "stream",
     "text": [
      "[0.04585569]\n"
     ]
    },
    {
     "name": "stderr",
     "output_type": "stream",
     "text": [
      "[====                                                                    ]   6%\r"
     ]
    },
    {
     "name": "stdout",
     "output_type": "stream",
     "text": [
      "The panel dimensions are:\n",
      "n_samples: 6715 , L: 15 , T: 120\n"
     ]
    },
    {
     "name": "stderr",
     "output_type": "stream",
     "text": [
      "[========================================================================] 100%\n"
     ]
    },
    {
     "name": "stdout",
     "output_type": "stream",
     "text": [
      "[0.02329685]\n"
     ]
    },
    {
     "name": "stderr",
     "output_type": "stream",
     "text": [
      "[======                                                                  ]   8%\r"
     ]
    },
    {
     "name": "stdout",
     "output_type": "stream",
     "text": [
      "The panel dimensions are:\n",
      "n_samples: 6705 , L: 15 , T: 120\n"
     ]
    },
    {
     "name": "stderr",
     "output_type": "stream",
     "text": [
      "[========================================================================] 100%\n"
     ]
    },
    {
     "name": "stdout",
     "output_type": "stream",
     "text": [
      "[0.09915135]\n"
     ]
    },
    {
     "name": "stderr",
     "output_type": "stream",
     "text": [
      "[======                                                                  ]   8%\r"
     ]
    },
    {
     "name": "stdout",
     "output_type": "stream",
     "text": [
      "The panel dimensions are:\n",
      "n_samples: 6682 , L: 15 , T: 120\n"
     ]
    },
    {
     "name": "stderr",
     "output_type": "stream",
     "text": [
      "[========================================================================] 100%\n"
     ]
    },
    {
     "name": "stdout",
     "output_type": "stream",
     "text": [
      "[0.04244125]\n"
     ]
    },
    {
     "name": "stderr",
     "output_type": "stream",
     "text": [
      "[======                                                                  ]   8%\r"
     ]
    },
    {
     "name": "stdout",
     "output_type": "stream",
     "text": [
      "The panel dimensions are:\n",
      "n_samples: 6672 , L: 15 , T: 120\n"
     ]
    },
    {
     "name": "stderr",
     "output_type": "stream",
     "text": [
      "[========================================================================] 100%\n"
     ]
    },
    {
     "name": "stdout",
     "output_type": "stream",
     "text": [
      "[0.11441855]\n"
     ]
    },
    {
     "name": "stderr",
     "output_type": "stream",
     "text": [
      "[======                                                                  ]   8%\r"
     ]
    },
    {
     "name": "stdout",
     "output_type": "stream",
     "text": [
      "The panel dimensions are:\n",
      "n_samples: 6678 , L: 15 , T: 120\n"
     ]
    },
    {
     "name": "stderr",
     "output_type": "stream",
     "text": [
      "[========================================================================] 100%\n"
     ]
    },
    {
     "name": "stdout",
     "output_type": "stream",
     "text": [
      "[0.07629102]\n"
     ]
    },
    {
     "name": "stderr",
     "output_type": "stream",
     "text": [
      "[======                                                                  ]   8%\r"
     ]
    },
    {
     "name": "stdout",
     "output_type": "stream",
     "text": [
      "The panel dimensions are:\n",
      "n_samples: 6671 , L: 15 , T: 120\n"
     ]
    },
    {
     "name": "stderr",
     "output_type": "stream",
     "text": [
      "[========================================================================] 100%\n"
     ]
    },
    {
     "name": "stdout",
     "output_type": "stream",
     "text": [
      "[0.12409055]\n"
     ]
    },
    {
     "name": "stderr",
     "output_type": "stream",
     "text": [
      "[======                                                                  ]   8%\r"
     ]
    },
    {
     "name": "stdout",
     "output_type": "stream",
     "text": [
      "The panel dimensions are:\n",
      "n_samples: 6674 , L: 15 , T: 120\n"
     ]
    },
    {
     "name": "stderr",
     "output_type": "stream",
     "text": [
      "[========================================================================] 100%\n"
     ]
    },
    {
     "name": "stdout",
     "output_type": "stream",
     "text": [
      "[0.00219592]\n"
     ]
    },
    {
     "name": "stderr",
     "output_type": "stream",
     "text": [
      "[======                                                                  ]   8%\r"
     ]
    },
    {
     "name": "stdout",
     "output_type": "stream",
     "text": [
      "The panel dimensions are:\n",
      "n_samples: 6671 , L: 15 , T: 120\n"
     ]
    },
    {
     "name": "stderr",
     "output_type": "stream",
     "text": [
      "[========================================================================] 100%\n"
     ]
    },
    {
     "name": "stdout",
     "output_type": "stream",
     "text": [
      "[0.16110889]\n"
     ]
    },
    {
     "name": "stderr",
     "output_type": "stream",
     "text": [
      "[====                                                                    ]   6%\r"
     ]
    },
    {
     "name": "stdout",
     "output_type": "stream",
     "text": [
      "The panel dimensions are:\n",
      "n_samples: 6667 , L: 15 , T: 120\n"
     ]
    },
    {
     "name": "stderr",
     "output_type": "stream",
     "text": [
      "[========================================================================] 100%\n"
     ]
    },
    {
     "name": "stdout",
     "output_type": "stream",
     "text": [
      "[0.02882513]\n"
     ]
    },
    {
     "name": "stderr",
     "output_type": "stream",
     "text": [
      "[====                                                                    ]   6%\r"
     ]
    },
    {
     "name": "stdout",
     "output_type": "stream",
     "text": [
      "The panel dimensions are:\n",
      "n_samples: 6670 , L: 15 , T: 120\n"
     ]
    },
    {
     "name": "stderr",
     "output_type": "stream",
     "text": [
      "[========================================================================] 100%\n"
     ]
    },
    {
     "name": "stdout",
     "output_type": "stream",
     "text": [
      "[0.09716999]\n"
     ]
    },
    {
     "name": "stderr",
     "output_type": "stream",
     "text": [
      "[====                                                                    ]   6%\r"
     ]
    },
    {
     "name": "stdout",
     "output_type": "stream",
     "text": [
      "The panel dimensions are:\n",
      "n_samples: 6676 , L: 15 , T: 120\n"
     ]
    },
    {
     "name": "stderr",
     "output_type": "stream",
     "text": [
      "[========================================================================] 100%\n"
     ]
    },
    {
     "name": "stdout",
     "output_type": "stream",
     "text": [
      "[0.04971987]\n"
     ]
    },
    {
     "name": "stderr",
     "output_type": "stream",
     "text": [
      "[======                                                                  ]   8%\r"
     ]
    },
    {
     "name": "stdout",
     "output_type": "stream",
     "text": [
      "The panel dimensions are:\n",
      "n_samples: 6692 , L: 15 , T: 120\n"
     ]
    },
    {
     "name": "stderr",
     "output_type": "stream",
     "text": [
      "[========================================================================] 100%\n"
     ]
    },
    {
     "name": "stdout",
     "output_type": "stream",
     "text": [
      "[0.02035467]\n"
     ]
    },
    {
     "name": "stderr",
     "output_type": "stream",
     "text": [
      "[====                                                                    ]   6%\r"
     ]
    },
    {
     "name": "stdout",
     "output_type": "stream",
     "text": [
      "The panel dimensions are:\n",
      "n_samples: 6696 , L: 15 , T: 120\n"
     ]
    },
    {
     "name": "stderr",
     "output_type": "stream",
     "text": [
      "[========================================================================] 100%\n"
     ]
    },
    {
     "name": "stdout",
     "output_type": "stream",
     "text": [
      "[0.09777152]\n"
     ]
    },
    {
     "name": "stderr",
     "output_type": "stream",
     "text": [
      "[====                                                                    ]   6%\r"
     ]
    },
    {
     "name": "stdout",
     "output_type": "stream",
     "text": [
      "The panel dimensions are:\n",
      "n_samples: 6697 , L: 15 , T: 120\n"
     ]
    },
    {
     "name": "stderr",
     "output_type": "stream",
     "text": [
      "[========================================================================] 100%\n"
     ]
    },
    {
     "name": "stdout",
     "output_type": "stream",
     "text": [
      "[0.00652582]\n"
     ]
    },
    {
     "name": "stderr",
     "output_type": "stream",
     "text": [
      "[====                                                                    ]   6%\r"
     ]
    },
    {
     "name": "stdout",
     "output_type": "stream",
     "text": [
      "The panel dimensions are:\n",
      "n_samples: 6688 , L: 15 , T: 120\n"
     ]
    },
    {
     "name": "stderr",
     "output_type": "stream",
     "text": [
      "[========================================================================] 100%\n"
     ]
    },
    {
     "name": "stdout",
     "output_type": "stream",
     "text": [
      "[-0.08253981]\n"
     ]
    },
    {
     "name": "stderr",
     "output_type": "stream",
     "text": [
      "[======                                                                  ]   8%\r"
     ]
    },
    {
     "name": "stdout",
     "output_type": "stream",
     "text": [
      "The panel dimensions are:\n",
      "n_samples: 6705 , L: 15 , T: 120\n"
     ]
    },
    {
     "name": "stderr",
     "output_type": "stream",
     "text": [
      "[========================================================================] 100%\n"
     ]
    },
    {
     "name": "stdout",
     "output_type": "stream",
     "text": [
      "[0.03588359]\n"
     ]
    },
    {
     "name": "stderr",
     "output_type": "stream",
     "text": [
      "[====                                                                    ]   6%\r"
     ]
    },
    {
     "name": "stdout",
     "output_type": "stream",
     "text": [
      "The panel dimensions are:\n",
      "n_samples: 6699 , L: 15 , T: 120\n"
     ]
    },
    {
     "name": "stderr",
     "output_type": "stream",
     "text": [
      "[========================================================================] 100%\n"
     ]
    },
    {
     "name": "stdout",
     "output_type": "stream",
     "text": [
      "[-0.0413284]\n"
     ]
    },
    {
     "name": "stderr",
     "output_type": "stream",
     "text": [
      "[======                                                                  ]   8%\r"
     ]
    },
    {
     "name": "stdout",
     "output_type": "stream",
     "text": [
      "The panel dimensions are:\n",
      "n_samples: 6699 , L: 15 , T: 120\n"
     ]
    },
    {
     "name": "stderr",
     "output_type": "stream",
     "text": [
      "[========================================================================] 100%\n"
     ]
    },
    {
     "name": "stdout",
     "output_type": "stream",
     "text": [
      "[0.12708403]\n"
     ]
    },
    {
     "name": "stderr",
     "output_type": "stream",
     "text": [
      "[======                                                                  ]   8%\r"
     ]
    },
    {
     "name": "stdout",
     "output_type": "stream",
     "text": [
      "The panel dimensions are:\n",
      "n_samples: 6705 , L: 15 , T: 120\n"
     ]
    },
    {
     "name": "stderr",
     "output_type": "stream",
     "text": [
      "[========================================================================] 100%\n"
     ]
    },
    {
     "name": "stdout",
     "output_type": "stream",
     "text": [
      "[0.06911605]\n"
     ]
    },
    {
     "name": "stderr",
     "output_type": "stream",
     "text": [
      "[======                                                                  ]   8%\r"
     ]
    },
    {
     "name": "stdout",
     "output_type": "stream",
     "text": [
      "The panel dimensions are:\n",
      "n_samples: 6709 , L: 15 , T: 120\n"
     ]
    },
    {
     "name": "stderr",
     "output_type": "stream",
     "text": [
      "[========================================================================] 100%\n"
     ]
    },
    {
     "name": "stdout",
     "output_type": "stream",
     "text": [
      "[0.06818444]\n"
     ]
    },
    {
     "name": "stderr",
     "output_type": "stream",
     "text": [
      "[======                                                                  ]   8%\r"
     ]
    },
    {
     "name": "stdout",
     "output_type": "stream",
     "text": [
      "The panel dimensions are:\n",
      "n_samples: 6715 , L: 15 , T: 120\n"
     ]
    },
    {
     "name": "stderr",
     "output_type": "stream",
     "text": [
      "[========================================================================] 100%\n"
     ]
    },
    {
     "name": "stdout",
     "output_type": "stream",
     "text": [
      "[0.03096985]\n"
     ]
    },
    {
     "name": "stderr",
     "output_type": "stream",
     "text": [
      "[====                                                                    ]   6%\r"
     ]
    },
    {
     "name": "stdout",
     "output_type": "stream",
     "text": [
      "The panel dimensions are:\n",
      "n_samples: 6734 , L: 15 , T: 120\n"
     ]
    },
    {
     "name": "stderr",
     "output_type": "stream",
     "text": [
      "[========================================================================] 100%\n"
     ]
    },
    {
     "name": "stdout",
     "output_type": "stream",
     "text": [
      "[-0.05315684]\n"
     ]
    },
    {
     "name": "stderr",
     "output_type": "stream",
     "text": [
      "[====                                                                    ]   6%\r"
     ]
    },
    {
     "name": "stdout",
     "output_type": "stream",
     "text": [
      "The panel dimensions are:\n",
      "n_samples: 6753 , L: 15 , T: 120\n"
     ]
    },
    {
     "name": "stderr",
     "output_type": "stream",
     "text": [
      "[========================================================================] 100%\n"
     ]
    },
    {
     "name": "stdout",
     "output_type": "stream",
     "text": [
      "[0.1048992]\n"
     ]
    },
    {
     "name": "stderr",
     "output_type": "stream",
     "text": [
      "[====                                                                    ]   6%\r"
     ]
    },
    {
     "name": "stdout",
     "output_type": "stream",
     "text": [
      "The panel dimensions are:\n",
      "n_samples: 6766 , L: 15 , T: 120\n"
     ]
    },
    {
     "name": "stderr",
     "output_type": "stream",
     "text": [
      "[========================================================================] 100%\n"
     ]
    },
    {
     "name": "stdout",
     "output_type": "stream",
     "text": [
      "[0.05578755]\n"
     ]
    },
    {
     "name": "stderr",
     "output_type": "stream",
     "text": [
      "[=                                                                       ]   1%\r"
     ]
    },
    {
     "name": "stdout",
     "output_type": "stream",
     "text": [
      "The panel dimensions are:\n",
      "n_samples: 6788 , L: 15 , T: 120\n"
     ]
    },
    {
     "name": "stderr",
     "output_type": "stream",
     "text": [
      "[========================================================================] 100%\n"
     ]
    },
    {
     "name": "stdout",
     "output_type": "stream",
     "text": [
      "[-0.00776571]\n"
     ]
    },
    {
     "name": "stderr",
     "output_type": "stream",
     "text": [
      "[===                                                                     ]   5%\r"
     ]
    },
    {
     "name": "stdout",
     "output_type": "stream",
     "text": [
      "The panel dimensions are:\n",
      "n_samples: 6784 , L: 15 , T: 120\n"
     ]
    },
    {
     "name": "stderr",
     "output_type": "stream",
     "text": [
      "[========================================================================] 100%\n"
     ]
    },
    {
     "name": "stdout",
     "output_type": "stream",
     "text": [
      "[0.03351177]\n"
     ]
    },
    {
     "name": "stderr",
     "output_type": "stream",
     "text": [
      "[====                                                                    ]   6%\r"
     ]
    },
    {
     "name": "stdout",
     "output_type": "stream",
     "text": [
      "The panel dimensions are:\n",
      "n_samples: 6778 , L: 15 , T: 120\n"
     ]
    },
    {
     "name": "stderr",
     "output_type": "stream",
     "text": [
      "[========================================================================] 100%\n"
     ]
    },
    {
     "name": "stdout",
     "output_type": "stream",
     "text": [
      "[0.06616853]\n"
     ]
    },
    {
     "name": "stderr",
     "output_type": "stream",
     "text": [
      "[===                                                                     ]   5%\r"
     ]
    },
    {
     "name": "stdout",
     "output_type": "stream",
     "text": [
      "The panel dimensions are:\n",
      "n_samples: 6780 , L: 15 , T: 120\n"
     ]
    },
    {
     "name": "stderr",
     "output_type": "stream",
     "text": [
      "[========================================================================] 100%\n"
     ]
    },
    {
     "name": "stdout",
     "output_type": "stream",
     "text": [
      "[0.07628197]\n"
     ]
    },
    {
     "name": "stderr",
     "output_type": "stream",
     "text": [
      "[==                                                                      ]   3%\r"
     ]
    },
    {
     "name": "stdout",
     "output_type": "stream",
     "text": [
      "The panel dimensions are:\n",
      "n_samples: 6780 , L: 15 , T: 120\n"
     ]
    },
    {
     "name": "stderr",
     "output_type": "stream",
     "text": [
      "[========================================================================] 100%\n"
     ]
    },
    {
     "name": "stdout",
     "output_type": "stream",
     "text": [
      "[0.64127991]\n"
     ]
    },
    {
     "name": "stderr",
     "output_type": "stream",
     "text": [
      "[====                                                                    ]   6%\r"
     ]
    },
    {
     "name": "stdout",
     "output_type": "stream",
     "text": [
      "The panel dimensions are:\n",
      "n_samples: 6784 , L: 15 , T: 120\n"
     ]
    },
    {
     "name": "stderr",
     "output_type": "stream",
     "text": [
      "[========================================================================] 100%\n"
     ]
    },
    {
     "name": "stdout",
     "output_type": "stream",
     "text": [
      "[0.0221558]\n"
     ]
    },
    {
     "name": "stderr",
     "output_type": "stream",
     "text": [
      "[===                                                                     ]   5%\r"
     ]
    },
    {
     "name": "stdout",
     "output_type": "stream",
     "text": [
      "The panel dimensions are:\n",
      "n_samples: 6782 , L: 15 , T: 120\n"
     ]
    },
    {
     "name": "stderr",
     "output_type": "stream",
     "text": [
      "[========================================================================] 100%\n"
     ]
    },
    {
     "name": "stdout",
     "output_type": "stream",
     "text": [
      "[-0.02908547]\n"
     ]
    },
    {
     "name": "stderr",
     "output_type": "stream",
     "text": [
      "[======                                                                  ]   8%\r"
     ]
    },
    {
     "name": "stdout",
     "output_type": "stream",
     "text": [
      "The panel dimensions are:\n",
      "n_samples: 6788 , L: 15 , T: 120\n"
     ]
    },
    {
     "name": "stderr",
     "output_type": "stream",
     "text": [
      "[========================================================================] 100%\n"
     ]
    },
    {
     "name": "stdout",
     "output_type": "stream",
     "text": [
      "[-0.19405039]\n"
     ]
    },
    {
     "name": "stderr",
     "output_type": "stream",
     "text": [
      "[====                                                                    ]   6%\r"
     ]
    },
    {
     "name": "stdout",
     "output_type": "stream",
     "text": [
      "The panel dimensions are:\n",
      "n_samples: 6782 , L: 15 , T: 120\n"
     ]
    },
    {
     "name": "stderr",
     "output_type": "stream",
     "text": [
      "[========================================================================] 100%\n"
     ]
    },
    {
     "name": "stdout",
     "output_type": "stream",
     "text": [
      "[0.13336805]\n"
     ]
    },
    {
     "name": "stderr",
     "output_type": "stream",
     "text": [
      "[======                                                                  ]   8%\r"
     ]
    },
    {
     "name": "stdout",
     "output_type": "stream",
     "text": [
      "The panel dimensions are:\n",
      "n_samples: 6790 , L: 15 , T: 120\n"
     ]
    },
    {
     "name": "stderr",
     "output_type": "stream",
     "text": [
      "[========================================================================] 100%\n"
     ]
    },
    {
     "name": "stdout",
     "output_type": "stream",
     "text": [
      "[0.10567418]\n"
     ]
    },
    {
     "name": "stderr",
     "output_type": "stream",
     "text": [
      "[======                                                                  ]   8%\r"
     ]
    },
    {
     "name": "stdout",
     "output_type": "stream",
     "text": [
      "The panel dimensions are:\n",
      "n_samples: 6797 , L: 15 , T: 120\n"
     ]
    },
    {
     "name": "stderr",
     "output_type": "stream",
     "text": [
      "[========================================================================] 100%\n"
     ]
    },
    {
     "name": "stdout",
     "output_type": "stream",
     "text": [
      "[0.18638773]\n"
     ]
    },
    {
     "name": "stderr",
     "output_type": "stream",
     "text": [
      "[======                                                                  ]   8%\r"
     ]
    },
    {
     "name": "stdout",
     "output_type": "stream",
     "text": [
      "The panel dimensions are:\n",
      "n_samples: 6813 , L: 15 , T: 120\n"
     ]
    },
    {
     "name": "stderr",
     "output_type": "stream",
     "text": [
      "[========================================================================] 100%\n"
     ]
    },
    {
     "name": "stdout",
     "output_type": "stream",
     "text": [
      "[0.11810838]\n"
     ]
    },
    {
     "name": "stderr",
     "output_type": "stream",
     "text": [
      "[====                                                                    ]   6%\r"
     ]
    },
    {
     "name": "stdout",
     "output_type": "stream",
     "text": [
      "The panel dimensions are:\n",
      "n_samples: 6837 , L: 15 , T: 120\n"
     ]
    },
    {
     "name": "stderr",
     "output_type": "stream",
     "text": [
      "[========================================================================] 100%\n"
     ]
    },
    {
     "name": "stdout",
     "output_type": "stream",
     "text": [
      "[0.09005329]\n"
     ]
    },
    {
     "name": "stderr",
     "output_type": "stream",
     "text": [
      "[====                                                                    ]   6%\r"
     ]
    },
    {
     "name": "stdout",
     "output_type": "stream",
     "text": [
      "The panel dimensions are:\n",
      "n_samples: 6860 , L: 15 , T: 120\n"
     ]
    },
    {
     "name": "stderr",
     "output_type": "stream",
     "text": [
      "[========================================================================] 100%\n"
     ]
    },
    {
     "name": "stdout",
     "output_type": "stream",
     "text": [
      "[0.02774138]\n"
     ]
    },
    {
     "name": "stderr",
     "output_type": "stream",
     "text": [
      "[====                                                                    ]   6%\r"
     ]
    },
    {
     "name": "stdout",
     "output_type": "stream",
     "text": [
      "The panel dimensions are:\n",
      "n_samples: 6894 , L: 15 , T: 120\n"
     ]
    },
    {
     "name": "stderr",
     "output_type": "stream",
     "text": [
      "[========================================================================] 100%\n"
     ]
    },
    {
     "name": "stdout",
     "output_type": "stream",
     "text": [
      "[0.02944879]\n"
     ]
    },
    {
     "name": "stderr",
     "output_type": "stream",
     "text": [
      "[===                                                                     ]   5%\r"
     ]
    },
    {
     "name": "stdout",
     "output_type": "stream",
     "text": [
      "The panel dimensions are:\n",
      "n_samples: 6946 , L: 15 , T: 120\n"
     ]
    },
    {
     "name": "stderr",
     "output_type": "stream",
     "text": [
      "[========================================================================] 100%\n"
     ]
    },
    {
     "name": "stdout",
     "output_type": "stream",
     "text": [
      "[0.17845559]\n"
     ]
    },
    {
     "name": "stderr",
     "output_type": "stream",
     "text": [
      "[======                                                                  ]   8%\r"
     ]
    },
    {
     "name": "stdout",
     "output_type": "stream",
     "text": [
      "The panel dimensions are:\n",
      "n_samples: 6981 , L: 15 , T: 120\n"
     ]
    },
    {
     "name": "stderr",
     "output_type": "stream",
     "text": [
      "[========================================================================] 100%\n"
     ]
    },
    {
     "name": "stdout",
     "output_type": "stream",
     "text": [
      "[0.1496112]\n"
     ]
    },
    {
     "name": "stderr",
     "output_type": "stream",
     "text": [
      "[===                                                                     ]   5%\r"
     ]
    },
    {
     "name": "stdout",
     "output_type": "stream",
     "text": [
      "The panel dimensions are:\n",
      "n_samples: 7058 , L: 15 , T: 120\n"
     ]
    },
    {
     "name": "stderr",
     "output_type": "stream",
     "text": [
      "[========================================================================] 100%\n"
     ]
    },
    {
     "name": "stdout",
     "output_type": "stream",
     "text": [
      "[0.18014421]\n"
     ]
    },
    {
     "name": "stderr",
     "output_type": "stream",
     "text": [
      "[======                                                                  ]   8%\r"
     ]
    },
    {
     "name": "stdout",
     "output_type": "stream",
     "text": [
      "The panel dimensions are:\n",
      "n_samples: 7118 , L: 15 , T: 120\n"
     ]
    },
    {
     "name": "stderr",
     "output_type": "stream",
     "text": [
      "[========================================================================] 100%\n"
     ]
    },
    {
     "name": "stdout",
     "output_type": "stream",
     "text": [
      "[0.09994529]\n"
     ]
    },
    {
     "name": "stderr",
     "output_type": "stream",
     "text": [
      "[===                                                                     ]   5%\r"
     ]
    },
    {
     "name": "stdout",
     "output_type": "stream",
     "text": [
      "The panel dimensions are:\n",
      "n_samples: 7184 , L: 15 , T: 120\n"
     ]
    },
    {
     "name": "stderr",
     "output_type": "stream",
     "text": [
      "[========================================================================] 100%\n"
     ]
    },
    {
     "name": "stdout",
     "output_type": "stream",
     "text": [
      "[0.04295411]\n"
     ]
    },
    {
     "name": "stderr",
     "output_type": "stream",
     "text": [
      "[====                                                                    ]   6%\r"
     ]
    },
    {
     "name": "stdout",
     "output_type": "stream",
     "text": [
      "The panel dimensions are:\n",
      "n_samples: 7327 , L: 15 , T: 120\n"
     ]
    },
    {
     "name": "stderr",
     "output_type": "stream",
     "text": [
      "[========================================================================] 100%\n"
     ]
    },
    {
     "name": "stdout",
     "output_type": "stream",
     "text": [
      "[0.04846495]\n"
     ]
    },
    {
     "name": "stderr",
     "output_type": "stream",
     "text": [
      "[=                                                                       ]   1%\r"
     ]
    },
    {
     "name": "stdout",
     "output_type": "stream",
     "text": [
      "The panel dimensions are:\n",
      "n_samples: 7460 , L: 15 , T: 120\n"
     ]
    },
    {
     "name": "stderr",
     "output_type": "stream",
     "text": [
      "[========================================================================] 100%\n"
     ]
    },
    {
     "name": "stdout",
     "output_type": "stream",
     "text": [
      "[0.02598377]\n"
     ]
    },
    {
     "name": "stderr",
     "output_type": "stream",
     "text": [
      "[====                                                                    ]   6%\r"
     ]
    },
    {
     "name": "stdout",
     "output_type": "stream",
     "text": [
      "The panel dimensions are:\n",
      "n_samples: 7519 , L: 15 , T: 120\n"
     ]
    },
    {
     "name": "stderr",
     "output_type": "stream",
     "text": [
      "[========================================================================] 100%\n"
     ]
    },
    {
     "name": "stdout",
     "output_type": "stream",
     "text": [
      "[0.04303426]\n"
     ]
    },
    {
     "name": "stderr",
     "output_type": "stream",
     "text": [
      "[====                                                                    ]   6%\r"
     ]
    },
    {
     "name": "stdout",
     "output_type": "stream",
     "text": [
      "The panel dimensions are:\n",
      "n_samples: 7590 , L: 15 , T: 120\n"
     ]
    },
    {
     "name": "stderr",
     "output_type": "stream",
     "text": [
      "[========================================================================] 100%\n"
     ]
    },
    {
     "name": "stdout",
     "output_type": "stream",
     "text": [
      "[-0.01160532]\n"
     ]
    },
    {
     "name": "stderr",
     "output_type": "stream",
     "text": [
      "[==                                                                      ]   3%\r"
     ]
    },
    {
     "name": "stdout",
     "output_type": "stream",
     "text": [
      "The panel dimensions are:\n",
      "n_samples: 7705 , L: 15 , T: 120\n"
     ]
    },
    {
     "name": "stderr",
     "output_type": "stream",
     "text": [
      "[========================================================================] 100%\n"
     ]
    },
    {
     "name": "stdout",
     "output_type": "stream",
     "text": [
      "[0.01190461]\n"
     ]
    },
    {
     "name": "stderr",
     "output_type": "stream",
     "text": [
      "[===                                                                     ]   5%\r"
     ]
    },
    {
     "name": "stdout",
     "output_type": "stream",
     "text": [
      "The panel dimensions are:\n",
      "n_samples: 7768 , L: 15 , T: 120\n"
     ]
    },
    {
     "name": "stderr",
     "output_type": "stream",
     "text": [
      "[========================================================================] 100%\n"
     ]
    },
    {
     "name": "stdout",
     "output_type": "stream",
     "text": [
      "[1.00653393]\n"
     ]
    },
    {
     "name": "stderr",
     "output_type": "stream",
     "text": [
      "[======                                                                  ]   8%\r"
     ]
    },
    {
     "name": "stdout",
     "output_type": "stream",
     "text": [
      "The panel dimensions are:\n",
      "n_samples: 7833 , L: 15 , T: 120\n"
     ]
    },
    {
     "name": "stderr",
     "output_type": "stream",
     "text": [
      "[========================================================================] 100%\n"
     ]
    },
    {
     "name": "stdout",
     "output_type": "stream",
     "text": [
      "[0.06520369]\n"
     ]
    },
    {
     "name": "stderr",
     "output_type": "stream",
     "text": [
      "[====                                                                    ]   6%\r"
     ]
    },
    {
     "name": "stdout",
     "output_type": "stream",
     "text": [
      "The panel dimensions are:\n",
      "n_samples: 7903 , L: 15 , T: 120\n"
     ]
    },
    {
     "name": "stderr",
     "output_type": "stream",
     "text": [
      "[========================================================================] 100%\n"
     ]
    },
    {
     "name": "stdout",
     "output_type": "stream",
     "text": [
      "[0.00649625]\n"
     ]
    },
    {
     "name": "stderr",
     "output_type": "stream",
     "text": [
      "[======                                                                  ]   8%\r"
     ]
    },
    {
     "name": "stdout",
     "output_type": "stream",
     "text": [
      "The panel dimensions are:\n",
      "n_samples: 7962 , L: 15 , T: 120\n"
     ]
    },
    {
     "name": "stderr",
     "output_type": "stream",
     "text": [
      "[========================================================================] 100%\n"
     ]
    },
    {
     "name": "stdout",
     "output_type": "stream",
     "text": [
      "[0.06970023]\n"
     ]
    },
    {
     "name": "stderr",
     "output_type": "stream",
     "text": [
      "[===                                                                     ]   5%\r"
     ]
    },
    {
     "name": "stdout",
     "output_type": "stream",
     "text": [
      "The panel dimensions are:\n",
      "n_samples: 8041 , L: 15 , T: 120\n"
     ]
    },
    {
     "name": "stderr",
     "output_type": "stream",
     "text": [
      "[========================================================================] 100%\n"
     ]
    },
    {
     "name": "stdout",
     "output_type": "stream",
     "text": [
      "[-0.02096744]\n"
     ]
    },
    {
     "name": "stderr",
     "output_type": "stream",
     "text": [
      "[==                                                                      ]   3%\r"
     ]
    },
    {
     "name": "stdout",
     "output_type": "stream",
     "text": [
      "The panel dimensions are:\n",
      "n_samples: 8092 , L: 15 , T: 120\n"
     ]
    },
    {
     "name": "stderr",
     "output_type": "stream",
     "text": [
      "[========================================================================] 100%\n"
     ]
    },
    {
     "name": "stdout",
     "output_type": "stream",
     "text": [
      "[3.02363705]\n"
     ]
    },
    {
     "name": "stderr",
     "output_type": "stream",
     "text": [
      "[======                                                                  ]   8%\r"
     ]
    },
    {
     "name": "stdout",
     "output_type": "stream",
     "text": [
      "The panel dimensions are:\n",
      "n_samples: 8116 , L: 15 , T: 120\n"
     ]
    },
    {
     "name": "stderr",
     "output_type": "stream",
     "text": [
      "[========================================================================] 100%\n"
     ]
    },
    {
     "name": "stdout",
     "output_type": "stream",
     "text": [
      "[0.06660282]\n"
     ]
    },
    {
     "name": "stderr",
     "output_type": "stream",
     "text": [
      "[==                                                                      ]   3%\r"
     ]
    },
    {
     "name": "stdout",
     "output_type": "stream",
     "text": [
      "The panel dimensions are:\n",
      "n_samples: 8137 , L: 15 , T: 120\n"
     ]
    },
    {
     "name": "stderr",
     "output_type": "stream",
     "text": [
      "[========================================================================] 100%\n"
     ]
    },
    {
     "name": "stdout",
     "output_type": "stream",
     "text": [
      "[0.01829334]\n"
     ]
    },
    {
     "name": "stderr",
     "output_type": "stream",
     "text": [
      "[====                                                                    ]   6%\r"
     ]
    },
    {
     "name": "stdout",
     "output_type": "stream",
     "text": [
      "The panel dimensions are:\n",
      "n_samples: 8153 , L: 15 , T: 120\n"
     ]
    },
    {
     "name": "stderr",
     "output_type": "stream",
     "text": [
      "[========================================================================] 100%\n"
     ]
    },
    {
     "name": "stdout",
     "output_type": "stream",
     "text": [
      "[0.10508541]\n"
     ]
    },
    {
     "name": "stderr",
     "output_type": "stream",
     "text": [
      "[======                                                                  ]   8%\r"
     ]
    },
    {
     "name": "stdout",
     "output_type": "stream",
     "text": [
      "The panel dimensions are:\n",
      "n_samples: 8156 , L: 15 , T: 120\n"
     ]
    },
    {
     "name": "stderr",
     "output_type": "stream",
     "text": [
      "[========================================================================] 100%\n"
     ]
    },
    {
     "name": "stdout",
     "output_type": "stream",
     "text": [
      "[0.07122205]\n"
     ]
    },
    {
     "name": "stderr",
     "output_type": "stream",
     "text": [
      "[===                                                                     ]   5%\r"
     ]
    },
    {
     "name": "stdout",
     "output_type": "stream",
     "text": [
      "The panel dimensions are:\n",
      "n_samples: 8155 , L: 15 , T: 120\n"
     ]
    },
    {
     "name": "stderr",
     "output_type": "stream",
     "text": [
      "[========================================================================] 100%\n"
     ]
    },
    {
     "name": "stdout",
     "output_type": "stream",
     "text": [
      "[0.11361715]\n"
     ]
    },
    {
     "name": "stderr",
     "output_type": "stream",
     "text": [
      "[======                                                                  ]   8%\r"
     ]
    },
    {
     "name": "stdout",
     "output_type": "stream",
     "text": [
      "The panel dimensions are:\n",
      "n_samples: 8147 , L: 15 , T: 120\n"
     ]
    },
    {
     "name": "stderr",
     "output_type": "stream",
     "text": [
      "[========================================================================] 100%\n"
     ]
    },
    {
     "name": "stdout",
     "output_type": "stream",
     "text": [
      "[0.12198462]\n"
     ]
    },
    {
     "name": "stderr",
     "output_type": "stream",
     "text": [
      "[===                                                                     ]   5%\r"
     ]
    },
    {
     "name": "stdout",
     "output_type": "stream",
     "text": [
      "The panel dimensions are:\n",
      "n_samples: 8150 , L: 15 , T: 120\n"
     ]
    },
    {
     "name": "stderr",
     "output_type": "stream",
     "text": [
      "[========================================================================] 100%\n"
     ]
    },
    {
     "name": "stdout",
     "output_type": "stream",
     "text": [
      "[0.02410262]\n"
     ]
    },
    {
     "name": "stderr",
     "output_type": "stream",
     "text": [
      "[==                                                                      ]   3%\r"
     ]
    },
    {
     "name": "stdout",
     "output_type": "stream",
     "text": [
      "The panel dimensions are:\n",
      "n_samples: 8149 , L: 15 , T: 120\n"
     ]
    },
    {
     "name": "stderr",
     "output_type": "stream",
     "text": [
      "[========================================================================] 100%\n"
     ]
    },
    {
     "name": "stdout",
     "output_type": "stream",
     "text": [
      "[0.13044419]\n"
     ]
    },
    {
     "name": "stderr",
     "output_type": "stream",
     "text": [
      "[====                                                                    ]   6%\r"
     ]
    },
    {
     "name": "stdout",
     "output_type": "stream",
     "text": [
      "The panel dimensions are:\n",
      "n_samples: 8141 , L: 15 , T: 120\n"
     ]
    },
    {
     "name": "stderr",
     "output_type": "stream",
     "text": [
      "[========================================================================] 100%\n"
     ]
    },
    {
     "name": "stdout",
     "output_type": "stream",
     "text": [
      "[0.09298361]\n"
     ]
    },
    {
     "name": "stderr",
     "output_type": "stream",
     "text": [
      "[===                                                                     ]   5%\r"
     ]
    },
    {
     "name": "stdout",
     "output_type": "stream",
     "text": [
      "The panel dimensions are:\n",
      "n_samples: 8125 , L: 15 , T: 120\n"
     ]
    },
    {
     "name": "stderr",
     "output_type": "stream",
     "text": [
      "[========================================================================] 100%\n"
     ]
    },
    {
     "name": "stdout",
     "output_type": "stream",
     "text": [
      "[0.04275982]\n"
     ]
    },
    {
     "name": "stderr",
     "output_type": "stream",
     "text": [
      "[====                                                                    ]   6%\r"
     ]
    },
    {
     "name": "stdout",
     "output_type": "stream",
     "text": [
      "The panel dimensions are:\n",
      "n_samples: 8126 , L: 15 , T: 120\n"
     ]
    },
    {
     "name": "stderr",
     "output_type": "stream",
     "text": [
      "[========================================================================] 100%\n"
     ]
    },
    {
     "name": "stdout",
     "output_type": "stream",
     "text": [
      "[0.1484058]\n"
     ]
    },
    {
     "name": "stderr",
     "output_type": "stream",
     "text": [
      "[======                                                                  ]   8%\r"
     ]
    },
    {
     "name": "stdout",
     "output_type": "stream",
     "text": [
      "The panel dimensions are:\n",
      "n_samples: 8124 , L: 15 , T: 120\n"
     ]
    },
    {
     "name": "stderr",
     "output_type": "stream",
     "text": [
      "[========================================================================] 100%\n"
     ]
    },
    {
     "name": "stdout",
     "output_type": "stream",
     "text": [
      "[0.00863398]\n"
     ]
    },
    {
     "name": "stderr",
     "output_type": "stream",
     "text": [
      "[====                                                                    ]   6%\r"
     ]
    },
    {
     "name": "stdout",
     "output_type": "stream",
     "text": [
      "The panel dimensions are:\n",
      "n_samples: 8120 , L: 15 , T: 120\n"
     ]
    },
    {
     "name": "stderr",
     "output_type": "stream",
     "text": [
      "[========================================================================] 100%\n"
     ]
    },
    {
     "name": "stdout",
     "output_type": "stream",
     "text": [
      "[0.02003974]\n"
     ]
    },
    {
     "name": "stderr",
     "output_type": "stream",
     "text": [
      "[===                                                                     ]   5%\r"
     ]
    },
    {
     "name": "stdout",
     "output_type": "stream",
     "text": [
      "The panel dimensions are:\n",
      "n_samples: 8131 , L: 15 , T: 120\n"
     ]
    },
    {
     "name": "stderr",
     "output_type": "stream",
     "text": [
      "[========================================================================] 100%\n"
     ]
    },
    {
     "name": "stdout",
     "output_type": "stream",
     "text": [
      "[0.03312618]\n"
     ]
    },
    {
     "name": "stderr",
     "output_type": "stream",
     "text": [
      "[====                                                                    ]   6%\r"
     ]
    },
    {
     "name": "stdout",
     "output_type": "stream",
     "text": [
      "The panel dimensions are:\n",
      "n_samples: 8130 , L: 15 , T: 120\n"
     ]
    },
    {
     "name": "stderr",
     "output_type": "stream",
     "text": [
      "[========================================================================] 100%\n"
     ]
    },
    {
     "name": "stdout",
     "output_type": "stream",
     "text": [
      "[0.0631393]\n"
     ]
    },
    {
     "name": "stderr",
     "output_type": "stream",
     "text": [
      "[==                                                                      ]   3%\r"
     ]
    },
    {
     "name": "stdout",
     "output_type": "stream",
     "text": [
      "The panel dimensions are:\n",
      "n_samples: 8126 , L: 15 , T: 120\n"
     ]
    },
    {
     "name": "stderr",
     "output_type": "stream",
     "text": [
      "[========================================================================] 100%\n"
     ]
    },
    {
     "name": "stdout",
     "output_type": "stream",
     "text": [
      "[0.09036192]\n"
     ]
    },
    {
     "name": "stderr",
     "output_type": "stream",
     "text": [
      "[===                                                                     ]   5%\r"
     ]
    },
    {
     "name": "stdout",
     "output_type": "stream",
     "text": [
      "The panel dimensions are:\n",
      "n_samples: 8125 , L: 15 , T: 120\n"
     ]
    },
    {
     "name": "stderr",
     "output_type": "stream",
     "text": [
      "[========================================================================] 100%\n"
     ]
    },
    {
     "name": "stdout",
     "output_type": "stream",
     "text": [
      "[0.04410404]\n"
     ]
    },
    {
     "name": "stderr",
     "output_type": "stream",
     "text": [
      "[===                                                                     ]   5%\r"
     ]
    },
    {
     "name": "stdout",
     "output_type": "stream",
     "text": [
      "The panel dimensions are:\n",
      "n_samples: 8130 , L: 15 , T: 120\n"
     ]
    },
    {
     "name": "stderr",
     "output_type": "stream",
     "text": [
      "[========================================================================] 100%\n"
     ]
    },
    {
     "name": "stdout",
     "output_type": "stream",
     "text": [
      "[-0.01386484]\n"
     ]
    },
    {
     "name": "stderr",
     "output_type": "stream",
     "text": [
      "[======                                                                  ]   8%\r"
     ]
    },
    {
     "name": "stdout",
     "output_type": "stream",
     "text": [
      "The panel dimensions are:\n",
      "n_samples: 8132 , L: 15 , T: 120\n"
     ]
    },
    {
     "name": "stderr",
     "output_type": "stream",
     "text": [
      "[========================================================================] 100%\n"
     ]
    },
    {
     "name": "stdout",
     "output_type": "stream",
     "text": [
      "[-0.03743561]\n"
     ]
    },
    {
     "name": "stderr",
     "output_type": "stream",
     "text": [
      "[====                                                                    ]   6%\r"
     ]
    },
    {
     "name": "stdout",
     "output_type": "stream",
     "text": [
      "The panel dimensions are:\n",
      "n_samples: 8132 , L: 15 , T: 120\n"
     ]
    },
    {
     "name": "stderr",
     "output_type": "stream",
     "text": [
      "[========================================================================] 100%\n"
     ]
    },
    {
     "name": "stdout",
     "output_type": "stream",
     "text": [
      "[-0.0095831]\n"
     ]
    },
    {
     "name": "stderr",
     "output_type": "stream",
     "text": [
      "[====                                                                    ]   6%\r"
     ]
    },
    {
     "name": "stdout",
     "output_type": "stream",
     "text": [
      "The panel dimensions are:\n",
      "n_samples: 8130 , L: 15 , T: 120\n"
     ]
    },
    {
     "name": "stderr",
     "output_type": "stream",
     "text": [
      "[========================================================================] 100%\n"
     ]
    },
    {
     "name": "stdout",
     "output_type": "stream",
     "text": [
      "[0.11939597]\n"
     ]
    },
    {
     "name": "stderr",
     "output_type": "stream",
     "text": [
      "[===                                                                     ]   5%\r"
     ]
    },
    {
     "name": "stdout",
     "output_type": "stream",
     "text": [
      "The panel dimensions are:\n",
      "n_samples: 8135 , L: 15 , T: 120\n"
     ]
    },
    {
     "name": "stderr",
     "output_type": "stream",
     "text": [
      "[========================================================================] 100%\n"
     ]
    },
    {
     "name": "stdout",
     "output_type": "stream",
     "text": [
      "[0.11966449]\n"
     ]
    },
    {
     "name": "stderr",
     "output_type": "stream",
     "text": [
      "[==                                                                      ]   3%\r"
     ]
    },
    {
     "name": "stdout",
     "output_type": "stream",
     "text": [
      "The panel dimensions are:\n",
      "n_samples: 8127 , L: 15 , T: 120\n"
     ]
    },
    {
     "name": "stderr",
     "output_type": "stream",
     "text": [
      "[========================================================================] 100%\n"
     ]
    },
    {
     "ename": "LinAlgError",
     "evalue": "singular matrix",
     "output_type": "error",
     "traceback": [
      "\u001b[0;31m---------------------------------------------------------------------------\u001b[0m",
      "\u001b[0;31mLinAlgError\u001b[0m                               Traceback (most recent call last)",
      "Cell \u001b[0;32mIn[9], line 34\u001b[0m\n\u001b[1;32m     25\u001b[0m g2 \u001b[38;5;241m=\u001b[39m np\u001b[38;5;241m.\u001b[39mexp(np\u001b[38;5;241m.\u001b[39mlinspace( np\u001b[38;5;241m.\u001b[39mlog(\u001b[38;5;241m1e-6\u001b[39m),np\u001b[38;5;241m.\u001b[39mlog(\u001b[38;5;241m5\u001b[39m),\u001b[38;5;241m10\u001b[39m))\n\u001b[1;32m     27\u001b[0m OptimalPortfolioWeights_t \u001b[38;5;241m=\u001b[39m pyport\u001b[38;5;241m.\u001b[39mportfolio_optimization(meanVec \u001b[38;5;241m=\u001b[39m np\u001b[38;5;241m.\u001b[39marray(mu_t),sigMat\u001b[38;5;241m=\u001b[39mnp\u001b[38;5;241m.\u001b[39marray(Sigma_t),retTarget \u001b[38;5;241m=\u001b[39m \u001b[38;5;241m0\u001b[39m,longShort \u001b[38;5;241m=\u001b[39m \u001b[38;5;241m0.2\u001b[39m,maxAlloc\u001b[38;5;241m=\u001b[39m\u001b[38;5;241m0.08\u001b[39m,\n\u001b[1;32m     28\u001b[0m                 lambda_l1\u001b[38;5;241m=\u001b[39mg1[\u001b[38;5;241m0\u001b[39m],lambda_l2\u001b[38;5;241m=\u001b[39mg2[\u001b[38;5;241m0\u001b[39m],riskfree \u001b[38;5;241m=\u001b[39m \u001b[38;5;241m0\u001b[39m,assetsOrder\u001b[38;5;241m=\u001b[39m\u001b[38;5;28;01mNone\u001b[39;00m,maxShar \u001b[38;5;241m=\u001b[39m \u001b[38;5;241m1\u001b[39m,factor\u001b[38;5;241m=\u001b[39mnp\u001b[38;5;241m.\u001b[39marray(V_t\u001b[38;5;241m.\u001b[39mT),turnover \u001b[38;5;241m=\u001b[39m \u001b[38;5;28;01mNone\u001b[39;00m, \n\u001b[1;32m     29\u001b[0m                 w_pre \u001b[38;5;241m=\u001b[39m \u001b[38;5;28;01mNone\u001b[39;00m, individual \u001b[38;5;241m=\u001b[39m \u001b[38;5;28;01mFalse\u001b[39;00m, exposure_constrain \u001b[38;5;241m=\u001b[39m \u001b[38;5;241m0\u001b[39m, w_bench \u001b[38;5;241m=\u001b[39m \u001b[38;5;28;01mNone\u001b[39;00m, \n\u001b[1;32m     30\u001b[0m                 factor_exposure_constrain \u001b[38;5;241m=\u001b[39m \u001b[38;5;28;01mNone\u001b[39;00m, U_factor \u001b[38;5;241m=\u001b[39m \u001b[38;5;28;01mNone\u001b[39;00m, general_linear_constrain \u001b[38;5;241m=\u001b[39m \u001b[38;5;28;01mNone\u001b[39;00m, \n\u001b[1;32m     31\u001b[0m                 U_genlinear \u001b[38;5;241m=\u001b[39m \u001b[38;5;241m0\u001b[39m, w_general \u001b[38;5;241m=\u001b[39m \u001b[38;5;28;01mNone\u001b[39;00m, TE_constrain \u001b[38;5;241m=\u001b[39m \u001b[38;5;241m0\u001b[39m, general_quad \u001b[38;5;241m=\u001b[39m \u001b[38;5;241m0\u001b[39m, Q_w \u001b[38;5;241m=\u001b[39m \u001b[38;5;28;01mNone\u001b[39;00m, \n\u001b[1;32m     32\u001b[0m                 Q_b \u001b[38;5;241m=\u001b[39m \u001b[38;5;28;01mNone\u001b[39;00m, Q_bench \u001b[38;5;241m=\u001b[39m \u001b[38;5;28;01mNone\u001b[39;00m)[\u001b[38;5;241m0\u001b[39m]\u001b[38;5;241m.\u001b[39mreshape(\u001b[38;5;241m-\u001b[39m\u001b[38;5;241m1\u001b[39m,\u001b[38;5;241m1\u001b[39m)\n\u001b[0;32m---> 34\u001b[0m max_return_t \u001b[38;5;241m=\u001b[39m (\u001b[43minv\u001b[49m\u001b[43m(\u001b[49m\u001b[43mGamma\u001b[49m\u001b[38;5;241;43m.\u001b[39;49m\u001b[43mT\u001b[49m\u001b[43m \u001b[49m\u001b[38;5;241;43m@\u001b[39;49m\u001b[43m \u001b[49m\u001b[43mX_next\u001b[49m\u001b[38;5;241;43m.\u001b[39;49m\u001b[43mT\u001b[49m\u001b[43m \u001b[49m\u001b[38;5;241;43m@\u001b[39;49m\u001b[43m \u001b[49m\u001b[43mX_next\u001b[49m\u001b[43m \u001b[49m\u001b[38;5;241;43m@\u001b[39;49m\u001b[43m \u001b[49m\u001b[43mGamma\u001b[49m\u001b[43m)\u001b[49m \u001b[38;5;241m@\u001b[39m Gamma\u001b[38;5;241m.\u001b[39mT \u001b[38;5;241m@\u001b[39m X_next\u001b[38;5;241m.\u001b[39mT \u001b[38;5;241m@\u001b[39m y_next)\u001b[38;5;241m.\u001b[39mT \u001b[38;5;241m@\u001b[39m OptimalPortfolioWeights_t\n\u001b[1;32m     36\u001b[0m \u001b[38;5;28mprint\u001b[39m (max_return_t)\n",
      "File \u001b[0;32m~/anaconda3/envs/env_test/lib/python3.10/site-packages/scipy-1.12.0-py3.10-macosx-11.1-arm64.egg/scipy/linalg/_basic.py:972\u001b[0m, in \u001b[0;36minv\u001b[0;34m(a, overwrite_a, check_finite)\u001b[0m\n\u001b[1;32m    970\u001b[0m     inv_a, info \u001b[38;5;241m=\u001b[39m getri(lu, piv, lwork\u001b[38;5;241m=\u001b[39mlwork, overwrite_lu\u001b[38;5;241m=\u001b[39m\u001b[38;5;241m1\u001b[39m)\n\u001b[1;32m    971\u001b[0m \u001b[38;5;28;01mif\u001b[39;00m info \u001b[38;5;241m>\u001b[39m \u001b[38;5;241m0\u001b[39m:\n\u001b[0;32m--> 972\u001b[0m     \u001b[38;5;28;01mraise\u001b[39;00m LinAlgError(\u001b[38;5;124m\"\u001b[39m\u001b[38;5;124msingular matrix\u001b[39m\u001b[38;5;124m\"\u001b[39m)\n\u001b[1;32m    973\u001b[0m \u001b[38;5;28;01mif\u001b[39;00m info \u001b[38;5;241m<\u001b[39m \u001b[38;5;241m0\u001b[39m:\n\u001b[1;32m    974\u001b[0m     \u001b[38;5;28;01mraise\u001b[39;00m \u001b[38;5;167;01mValueError\u001b[39;00m(\u001b[38;5;124m'\u001b[39m\u001b[38;5;124millegal value in \u001b[39m\u001b[38;5;132;01m%d\u001b[39;00m\u001b[38;5;124m-th argument of internal \u001b[39m\u001b[38;5;124m'\u001b[39m\n\u001b[1;32m    975\u001b[0m                      \u001b[38;5;124m'\u001b[39m\u001b[38;5;124mgetrf|getri\u001b[39m\u001b[38;5;124m'\u001b[39m \u001b[38;5;241m%\u001b[39m \u001b[38;5;241m-\u001b[39minfo)\n",
      "\u001b[0;31mLinAlgError\u001b[0m: singular matrix"
     ]
    }
   ],
   "source": [
    "window_size = 120 #rolling window size\n",
    "K = 6 #num of principle components\n",
    "\n",
    "# used subsets for testing!!!!\n",
    "df_test = sample_df.iloc[:,:20]\n",
    "charateristics = df_test.columns[4:] #list of characteristics\n",
    "\n",
    "unique_dates = df_test['eom'].unique() #unique dates\n",
    "T = len(unique_dates)\n",
    "\n",
    "# rolling window function\n",
    "for t in range(window_size, T): \n",
    "    \n",
    "    window_dates = unique_dates[t-window_size:t]\n",
    "    date_to_predict = unique_dates[t]\n",
    "\n",
    "    # calculate ipca\n",
    "    Gamma, factors, y_next, X_next, X_last, last_ids = IPCA_factor(df_test, window_dates, date_to_predict, charateristics, K)\n",
    "    V_t = inv(Gamma.T @ X_last.T @ X_last @ Gamma) @ Gamma.T @ X_last.T\n",
    "    Sigma_t= np.cov(factors, rowvar = True)\n",
    "    mu_t = np.array(np.mean(factors, axis=1))\n",
    "\n",
    "    # Grid search? grid search for regularization terms\n",
    "    g1 = np.exp(np.linspace( np.log(1e-6),np.log(5),10))\n",
    "    g2 = np.exp(np.linspace( np.log(1e-6),np.log(5),10))\n",
    "\n",
    "    OptimalPortfolioWeights_t = pyport.portfolio_optimization(meanVec = np.array(mu_t),sigMat=np.array(Sigma_t),retTarget = 0,longShort = 0.2,maxAlloc=0.08,\n",
    "                    lambda_l1=g1[0],lambda_l2=g2[0],riskfree = 0,assetsOrder=None,maxShar = 1,factor=np.array(V_t.T),turnover = None, \n",
    "                    w_pre = None, individual = False, exposure_constrain = 0, w_bench = None, \n",
    "                    factor_exposure_constrain = None, U_factor = None, general_linear_constrain = None, \n",
    "                    U_genlinear = 0, w_general = None, TE_constrain = 0, general_quad = 0, Q_w = None, \n",
    "                    Q_b = None, Q_bench = None)[0].reshape(-1,1)\n",
    "    \n",
    "    max_return_t = (inv(Gamma.T @ X_next.T @ X_next @ Gamma) @ Gamma.T @ X_next.T @ y_next).T @ OptimalPortfolioWeights_t\n",
    "    \n",
    "    print (max_return_t)\n",
    "    \n",
    "   "
   ]
  }
 ],
 "metadata": {
  "kernelspec": {
   "display_name": "env_spir",
   "language": "python",
   "name": "python3"
  },
  "language_info": {
   "codemirror_mode": {
    "name": "ipython",
    "version": 3
   },
   "file_extension": ".py",
   "mimetype": "text/x-python",
   "name": "python",
   "nbconvert_exporter": "python",
   "pygments_lexer": "ipython3",
   "version": "3.10.13"
  }
 },
 "nbformat": 4,
 "nbformat_minor": 2
}
